{
 "cells": [
  {
   "cell_type": "markdown",
   "id": "ab649c97-536a-4dff-b35e-f4bc834a3779",
   "metadata": {},
   "source": [
    "# Visualizing Geometric Objects with Different Coordinates\n",
    "\n",
    "In physics, we learn how to solve Newton's second law $\\vec{f} = m\\vec{a}$ very early.\n",
    "We often write the equation in component form, e.g.,\n",
    "\\begin{align}\n",
    "  f_x = m a_x \\\\\n",
    "  f_y = m a_y\n",
    "\\end{align}\n",
    "and solve the set of multiple equations without too much thinking.\n",
    "The concept of physics laws need to be independent of coordinate systems often come much later.\n",
    "\n",
    "Some authors describe the choice of coordiante systems in general relativity as \"gauge freedom\" for gravity theory.\n",
    "However, such a concept is does not need to be that difficult.\n",
    "If some equations are capable to describe some natural phenomena, as we change our coordinate systems, we better have a way to tranform our equations so they describe the same phenomena.\n",
    "Similar, if there exist some some representations to describe an object, as we change our coordinate systems, we better have a way to tranform our presentations so they describe the same object.\n",
    "\n",
    "In this notebook, we develop these transformations in order to visualize physical (or geometrical) objects in different coordinate systems."
   ]
  },
  {
   "cell_type": "code",
   "execution_count": null,
   "id": "fd906e18-05c3-48f0-a50c-dc0168144633",
   "metadata": {},
   "outputs": [],
   "source": []
  }
 ],
 "metadata": {
  "kernelspec": {
   "display_name": "Python 3 (ipykernel)",
   "language": "python",
   "name": "python3"
  },
  "language_info": {
   "codemirror_mode": {
    "name": "ipython",
    "version": 3
   },
   "file_extension": ".py",
   "mimetype": "text/x-python",
   "name": "python",
   "nbconvert_exporter": "python",
   "pygments_lexer": "ipython3",
   "version": "3.11.8"
  }
 },
 "nbformat": 4,
 "nbformat_minor": 5
}
